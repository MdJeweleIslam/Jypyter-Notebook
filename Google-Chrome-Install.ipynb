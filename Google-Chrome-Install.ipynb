{
  "cells": [
    {
      "cell_type": "code",
      "execution_count": 1,
      "metadata": {
        "colab": {
          "base_uri": "https://localhost:8080/"
        },
        "id": "lIYdn1woOS1n",
        "outputId": "ab9e43c9-2cbf-41e1-c9bf-5a5e522bbe1c"
      },
      "outputs": [
        {
          "output_type": "stream",
          "name": "stdout",
          "text": [
            "Reading package lists... Done\n",
            "Building dependency tree       \n",
            "Reading state information... Done\n",
            "libxss1 is already the newest version (1:1.2.2-1).\n",
            "libxss1 set to manually installed.\n",
            "The following package was automatically installed and is no longer required:\n",
            "  libnvidia-common-460\n",
            "Use 'apt autoremove' to remove it.\n",
            "The following additional packages will be installed:\n",
            "  libdbusmenu-glib4 libdbusmenu-gtk4 libgail-common libgail18 libgtk2.0-0\n",
            "  libgtk2.0-bin libgtk2.0-common\n",
            "Suggested packages:\n",
            "  indicator-application gvfs\n",
            "The following NEW packages will be installed:\n",
            "  libappindicator1 libdbusmenu-glib4 libdbusmenu-gtk4 libgail-common libgail18\n",
            "  libgtk2.0-0 libgtk2.0-bin libgtk2.0-common libindicator7\n",
            "0 upgraded, 9 newly installed, 0 to remove and 20 not upgraded.\n",
            "Need to get 2,137 kB of archives.\n",
            "After this operation, 7,127 kB of additional disk space will be used.\n",
            "Get:1 http://archive.ubuntu.com/ubuntu bionic-updates/main amd64 libdbusmenu-glib4 amd64 16.04.1+18.04.20171206-0ubuntu2 [41.0 kB]\n",
            "Get:2 http://archive.ubuntu.com/ubuntu bionic-updates/main amd64 libdbusmenu-gtk4 amd64 16.04.1+18.04.20171206-0ubuntu2 [26.9 kB]\n",
            "Get:3 http://archive.ubuntu.com/ubuntu bionic/main amd64 libgtk2.0-common all 2.24.32-1ubuntu1 [125 kB]\n",
            "Get:4 http://archive.ubuntu.com/ubuntu bionic/main amd64 libgtk2.0-0 amd64 2.24.32-1ubuntu1 [1,769 kB]\n",
            "Get:5 http://archive.ubuntu.com/ubuntu bionic/universe amd64 libindicator7 amd64 16.10.0+18.04.20180321.1-0ubuntu1 [21.7 kB]\n",
            "Get:6 http://archive.ubuntu.com/ubuntu bionic-updates/universe amd64 libappindicator1 amd64 12.10.1+18.04.20200408.1-0ubuntu1 [19.3 kB]\n",
            "Get:7 http://archive.ubuntu.com/ubuntu bionic/main amd64 libgail18 amd64 2.24.32-1ubuntu1 [14.2 kB]\n",
            "Get:8 http://archive.ubuntu.com/ubuntu bionic/main amd64 libgail-common amd64 2.24.32-1ubuntu1 [112 kB]\n",
            "Get:9 http://archive.ubuntu.com/ubuntu bionic/main amd64 libgtk2.0-bin amd64 2.24.32-1ubuntu1 [7,536 B]\n",
            "Fetched 2,137 kB in 0s (4,909 kB/s)\n",
            "Selecting previously unselected package libdbusmenu-glib4:amd64.\n",
            "(Reading database ... 124016 files and directories currently installed.)\n",
            "Preparing to unpack .../0-libdbusmenu-glib4_16.04.1+18.04.20171206-0ubuntu2_amd64.deb ...\n",
            "Unpacking libdbusmenu-glib4:amd64 (16.04.1+18.04.20171206-0ubuntu2) ...\n",
            "Selecting previously unselected package libdbusmenu-gtk4:amd64.\n",
            "Preparing to unpack .../1-libdbusmenu-gtk4_16.04.1+18.04.20171206-0ubuntu2_amd64.deb ...\n",
            "Unpacking libdbusmenu-gtk4:amd64 (16.04.1+18.04.20171206-0ubuntu2) ...\n",
            "Selecting previously unselected package libgtk2.0-common.\n",
            "Preparing to unpack .../2-libgtk2.0-common_2.24.32-1ubuntu1_all.deb ...\n",
            "Unpacking libgtk2.0-common (2.24.32-1ubuntu1) ...\n",
            "Selecting previously unselected package libgtk2.0-0:amd64.\n",
            "Preparing to unpack .../3-libgtk2.0-0_2.24.32-1ubuntu1_amd64.deb ...\n",
            "Unpacking libgtk2.0-0:amd64 (2.24.32-1ubuntu1) ...\n",
            "Selecting previously unselected package libindicator7.\n",
            "Preparing to unpack .../4-libindicator7_16.10.0+18.04.20180321.1-0ubuntu1_amd64.deb ...\n",
            "Unpacking libindicator7 (16.10.0+18.04.20180321.1-0ubuntu1) ...\n",
            "Selecting previously unselected package libappindicator1.\n",
            "Preparing to unpack .../5-libappindicator1_12.10.1+18.04.20200408.1-0ubuntu1_amd64.deb ...\n",
            "Unpacking libappindicator1 (12.10.1+18.04.20200408.1-0ubuntu1) ...\n",
            "Selecting previously unselected package libgail18:amd64.\n",
            "Preparing to unpack .../6-libgail18_2.24.32-1ubuntu1_amd64.deb ...\n",
            "Unpacking libgail18:amd64 (2.24.32-1ubuntu1) ...\n",
            "Selecting previously unselected package libgail-common:amd64.\n",
            "Preparing to unpack .../7-libgail-common_2.24.32-1ubuntu1_amd64.deb ...\n",
            "Unpacking libgail-common:amd64 (2.24.32-1ubuntu1) ...\n",
            "Selecting previously unselected package libgtk2.0-bin.\n",
            "Preparing to unpack .../8-libgtk2.0-bin_2.24.32-1ubuntu1_amd64.deb ...\n",
            "Unpacking libgtk2.0-bin (2.24.32-1ubuntu1) ...\n",
            "Setting up libgtk2.0-common (2.24.32-1ubuntu1) ...\n",
            "Setting up libdbusmenu-glib4:amd64 (16.04.1+18.04.20171206-0ubuntu2) ...\n",
            "Setting up libgtk2.0-0:amd64 (2.24.32-1ubuntu1) ...\n",
            "Setting up libindicator7 (16.10.0+18.04.20180321.1-0ubuntu1) ...\n",
            "Setting up libgail18:amd64 (2.24.32-1ubuntu1) ...\n",
            "Setting up libgail-common:amd64 (2.24.32-1ubuntu1) ...\n",
            "Setting up libdbusmenu-gtk4:amd64 (16.04.1+18.04.20171206-0ubuntu2) ...\n",
            "Setting up libgtk2.0-bin (2.24.32-1ubuntu1) ...\n",
            "Setting up libappindicator1 (12.10.1+18.04.20200408.1-0ubuntu1) ...\n",
            "Processing triggers for man-db (2.8.3-2ubuntu0.1) ...\n",
            "Processing triggers for libc-bin (2.27-3ubuntu1.6) ...\n"
          ]
        }
      ],
      "source": [
        "!apt install -y libxss1 libappindicator1 libindicator7"
      ]
    },
    {
      "cell_type": "code",
      "source": [
        "!wget https://dl.google.com/linux/direct/google-chrome-stable_current_amd64.deb"
      ],
      "metadata": {
        "id": "-jJcvfJLYhn0",
        "outputId": "86607bba-5f0b-4489-c05e-81b12bd39cf9",
        "colab": {
          "base_uri": "https://localhost:8080/"
        }
      },
      "execution_count": 2,
      "outputs": [
        {
          "output_type": "stream",
          "name": "stdout",
          "text": [
            "--2022-12-31 13:33:03--  https://dl.google.com/linux/direct/google-chrome-stable_current_amd64.deb\n",
            "Resolving dl.google.com (dl.google.com)... 172.217.203.91, 172.217.203.93, 172.217.203.136, ...\n",
            "Connecting to dl.google.com (dl.google.com)|172.217.203.91|:443... connected.\n",
            "HTTP request sent, awaiting response... 200 OK\n",
            "Length: 92980892 (89M) [application/x-debian-package]\n",
            "Saving to: ‘google-chrome-stable_current_amd64.deb’\n",
            "\n",
            "google-chrome-stabl 100%[===================>]  88.67M   335MB/s    in 0.3s    \n",
            "\n",
            "2022-12-31 13:33:04 (335 MB/s) - ‘google-chrome-stable_current_amd64.deb’ saved [92980892/92980892]\n",
            "\n"
          ]
        }
      ]
    },
    {
      "cell_type": "code",
      "source": [
        "!ls"
      ],
      "metadata": {
        "id": "dc8o3SkKYs5Y",
        "outputId": "eaee73bd-112d-4b2e-fe86-40ed56472851",
        "colab": {
          "base_uri": "https://localhost:8080/"
        }
      },
      "execution_count": 3,
      "outputs": [
        {
          "output_type": "stream",
          "name": "stdout",
          "text": [
            "google-chrome-stable_current_amd64.deb\tsample_data\n"
          ]
        }
      ]
    },
    {
      "cell_type": "code",
      "source": [
        "!dpkg -i google-chrome-stable_current_amd64.deb"
      ],
      "metadata": {
        "id": "mHsyRyXMZsPv",
        "outputId": "c2bbe02f-456a-454f-fc72-da38caa8f4c7",
        "colab": {
          "base_uri": "https://localhost:8080/"
        }
      },
      "execution_count": 4,
      "outputs": [
        {
          "output_type": "stream",
          "name": "stdout",
          "text": [
            "Selecting previously unselected package google-chrome-stable.\n",
            "(Reading database ... \r(Reading database ... 5%\r(Reading database ... 10%\r(Reading database ... 15%\r(Reading database ... 20%\r(Reading database ... 25%\r(Reading database ... 30%\r(Reading database ... 35%\r(Reading database ... 40%\r(Reading database ... 45%\r(Reading database ... 50%\r(Reading database ... 55%\r(Reading database ... 60%\r(Reading database ... 65%\r(Reading database ... 70%\r(Reading database ... 75%\r(Reading database ... 80%\r(Reading database ... 85%\r(Reading database ... 90%\r(Reading database ... 95%\r(Reading database ... 100%\r(Reading database ... 124103 files and directories currently installed.)\n",
            "Preparing to unpack google-chrome-stable_current_amd64.deb ...\n",
            "Unpacking google-chrome-stable (108.0.5359.124-1) ...\n",
            "Setting up google-chrome-stable (108.0.5359.124-1) ...\n",
            "update-alternatives: using /usr/bin/google-chrome-stable to provide /usr/bin/x-www-browser (x-www-browser) in auto mode\n",
            "update-alternatives: using /usr/bin/google-chrome-stable to provide /usr/bin/gnome-www-browser (gnome-www-browser) in auto mode\n",
            "update-alternatives: using /usr/bin/google-chrome-stable to provide /usr/bin/google-chrome (google-chrome) in auto mode\n",
            "Processing triggers for mime-support (3.60ubuntu1) ...\n",
            "Processing triggers for man-db (2.8.3-2ubuntu0.1) ...\n"
          ]
        }
      ]
    },
    {
      "cell_type": "code",
      "source": [],
      "metadata": {
        "id": "D_SRztzhZxC8"
      },
      "execution_count": null,
      "outputs": []
    }
  ],
  "metadata": {
    "colab": {
      "name": "scratchpad",
      "provenance": []
    },
    "kernelspec": {
      "display_name": "Python 3",
      "name": "python3"
    }
  },
  "nbformat": 4,
  "nbformat_minor": 0
}